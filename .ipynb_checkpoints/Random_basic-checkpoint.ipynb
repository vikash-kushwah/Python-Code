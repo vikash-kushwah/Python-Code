{
 "cells": [
  {
   "cell_type": "code",
   "execution_count": 6,
   "id": "115e8355-9fda-450d-9e04-81093c2885ad",
   "metadata": {},
   "outputs": [
    {
     "name": "stdout",
     "output_type": "stream",
     "text": [
      "8\n",
      "6\n",
      "5\n",
      "8\n",
      "9\n"
     ]
    }
   ],
   "source": [
    "#using random module\n",
    "import random \n",
    "for i in range(5):\n",
    "    print(random.randrange(5,10))  #exclude the upper limit"
   ]
  },
  {
   "cell_type": "code",
   "execution_count": 7,
   "id": "4709ed31-1d12-4fa6-9ef8-1cd1afc4ee6b",
   "metadata": {},
   "outputs": [
    {
     "name": "stdout",
     "output_type": "stream",
     "text": [
      "8\n",
      "8\n",
      "8\n",
      "7\n",
      "7\n"
     ]
    }
   ],
   "source": [
    "for i in range(5):\n",
    "    print(random.randint(7,8))   #include the upper limit "
   ]
  },
  {
   "cell_type": "code",
   "execution_count": null,
   "id": "eb2b11b3-dfbe-4dc8-b192-d8981cb316c3",
   "metadata": {},
   "outputs": [],
   "source": []
  }
 ],
 "metadata": {
  "kernelspec": {
   "display_name": "Python 3 (ipykernel)",
   "language": "python",
   "name": "python3"
  },
  "language_info": {
   "codemirror_mode": {
    "name": "ipython",
    "version": 3
   },
   "file_extension": ".py",
   "mimetype": "text/x-python",
   "name": "python",
   "nbconvert_exporter": "python",
   "pygments_lexer": "ipython3",
   "version": "3.12.7"
  }
 },
 "nbformat": 4,
 "nbformat_minor": 5
}
