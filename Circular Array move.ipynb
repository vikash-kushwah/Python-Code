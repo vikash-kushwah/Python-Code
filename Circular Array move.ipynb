{
 "cells": [
  {
   "cell_type": "code",
   "execution_count": 35,
   "id": "89e2378f-d821-40ce-82f2-b36bfe6048c2",
   "metadata": {},
   "outputs": [
    {
     "name": "stdout",
     "output_type": "stream",
     "text": [
      "[4, 5, 6, 1, 2, 3]\n"
     ]
    }
   ],
   "source": [
    "#circular array or move elements to the end according to the value of d\n",
    "a=[1,2,3,4,5,6]\n",
    "d=3\n",
    "def rotateArr(arr,d):\n",
    "    arr[:]=arr[d:]+arr[:d]\n",
    "    # for i in range(d):\n",
    "    #     arr.append(a[i])\n",
    "    # for i in range(d-1,-1,-1):\n",
    "    #     arr.remove(arr[i])\n",
    "\n",
    "rotateArr(a,d)\n",
    "print(a)"
   ]
  },
  {
   "cell_type": "code",
   "execution_count": 36,
   "id": "769b888a-531e-4841-8473-db3e6b89a3f1",
   "metadata": {},
   "outputs": [
    {
     "ename": "SyntaxError",
     "evalue": "incomplete input (1171614604.py, line 3)",
     "output_type": "error",
     "traceback": [
      "\u001b[1;36m  Cell \u001b[1;32mIn[36], line 3\u001b[1;36m\u001b[0m\n\u001b[1;33m    while(a):\u001b[0m\n\u001b[1;37m             ^\u001b[0m\n\u001b[1;31mSyntaxError\u001b[0m\u001b[1;31m:\u001b[0m incomplete input\n"
     ]
    }
   ],
   "source": [
    "arr2 = [2, 4, 1, 7, 5, 0]\n",
    "a=True\n",
    "while(a):\n",
    "    "
   ]
  },
  {
   "cell_type": "code",
   "execution_count": null,
   "id": "9e5a9b09-d053-4f2d-a75f-fe582540d6d1",
   "metadata": {},
   "outputs": [],
   "source": []
  }
 ],
 "metadata": {
  "kernelspec": {
   "display_name": "Python 3 (ipykernel)",
   "language": "python",
   "name": "python3"
  },
  "language_info": {
   "codemirror_mode": {
    "name": "ipython",
    "version": 3
   },
   "file_extension": ".py",
   "mimetype": "text/x-python",
   "name": "python",
   "nbconvert_exporter": "python",
   "pygments_lexer": "ipython3",
   "version": "3.12.7"
  }
 },
 "nbformat": 4,
 "nbformat_minor": 5
}
