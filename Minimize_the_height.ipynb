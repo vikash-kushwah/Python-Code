{
 "cells": [
  {
   "cell_type": "code",
   "execution_count": 12,
   "id": "7dadc2f4-6788-4bfc-8a7e-81c1aeda1e8b",
   "metadata": {},
   "outputs": [
    {
     "name": "stdout",
     "output_type": "stream",
     "text": [
      "Minimum difference: 5\n"
     ]
    }
   ],
   "source": [
    "\"\"\"Given an array arr[] denoting heights of N towers and a positive integer K.\n",
    "For each tower, you must perform exactly one of the following operations exactly once.\n",
    "    Increase the height of the tower by K\n",
    "    Decrease the height of the tower by K\n",
    "Find out the minimum possible difference between the height of the shortest and tallest towers after you have modified each tower.\n",
    "\n",
    "Note: It is compulsory to increase or decrease the height by K for each tower. \n",
    "    After the operation, the resultant array should not contain any negative integers.\"\"\"\n",
    "\n",
    "def getMinDiff(arr, k):\n",
    "    arr.sort()\n",
    "    res = arr[-1] - arr[0]\n",
    "\n",
    "    for i in range(1, len(arr)):\n",
    "        if (arr[i] - k < 0):\n",
    "            continue\n",
    "        min_height = min(arr[0] + k, arr[i] - k)                   # Calculate new minimum height\n",
    "        max_height = max(arr[-1] - k, arr[i - 1] + k)              # Calculate new maximum height\n",
    "        res = min(res, max_height - min_height)                    # Update result with the smallest difference\n",
    "        # print(min_height,max_height,res)\n",
    "\n",
    "    return res\n",
    "\n",
    "arr = [2,1, 5, 8, 10]\n",
    "k = 2\n",
    "print(\"Minimum difference:\", getMinDiff(arr, k))\n"
   ]
  },
  {
   "cell_type": "code",
   "execution_count": null,
   "id": "3d403f47-44ad-47c6-a03c-7d2f8cd090b6",
   "metadata": {},
   "outputs": [],
   "source": []
  }
 ],
 "metadata": {
  "kernelspec": {
   "display_name": "Python 3 (ipykernel)",
   "language": "python",
   "name": "python3"
  },
  "language_info": {
   "codemirror_mode": {
    "name": "ipython",
    "version": 3
   },
   "file_extension": ".py",
   "mimetype": "text/x-python",
   "name": "python",
   "nbconvert_exporter": "python",
   "pygments_lexer": "ipython3",
   "version": "3.12.7"
  }
 },
 "nbformat": 4,
 "nbformat_minor": 5
}
