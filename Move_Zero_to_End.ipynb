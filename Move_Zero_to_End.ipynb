{
 "cells": [
  {
   "cell_type": "code",
   "execution_count": 45,
   "id": "32209e3b-ee39-4633-8600-79d3ce9d068a",
   "metadata": {},
   "outputs": [
    {
     "name": "stdout",
     "output_type": "stream",
     "text": [
      "hello\n"
     ]
    }
   ],
   "source": [
    "print(\"hello\")"
   ]
  },
  {
   "cell_type": "code",
   "execution_count": 50,
   "id": "a2b6b398-e4a3-41b3-87f9-3635fcb3ce52",
   "metadata": {},
   "outputs": [
    {
     "name": "stdout",
     "output_type": "stream",
     "text": [
      "[3, 1, 4, 0, 0, 0, 0]\n"
     ]
    }
   ],
   "source": [
    "#program for moving 0 to the end wihtout using another list/array \n",
    "a=[0,0,0,3,0,1,4]\n",
    "ind=0\n",
    "ac=a.count(0)\n",
    "for i in a:\n",
    "    if(i!=0):\n",
    "        a[ind]=i\n",
    "        ind+=1\n",
    "for j in range (ind,ind+ac):\n",
    "    a[j]=0\n",
    "print(a)"
   ]
  },
  {
   "cell_type": "code",
   "execution_count": 80,
   "id": "e8024562-77e0-4792-bb12-a49dd1653487",
   "metadata": {},
   "outputs": [
    {
     "name": "stdout",
     "output_type": "stream",
     "text": [
      "[1, 2, 3, 4]\n",
      "[4, 3, 2, 1]\n"
     ]
    }
   ],
   "source": [
    "a=[1,2,3,4]\n",
    "def reverse(arr):\n",
    "    l=len(arr)\n",
    "    for i in range(l//2):\n",
    "        a[i],a[-i-1]=a[-i-1],a[i]\n",
    "        \n",
    "print(a)\n",
    "reverse(a)\n",
    "print(a)"
   ]
  },
  {
   "cell_type": "code",
   "execution_count": null,
   "id": "d3b3b997-dfd3-483b-8fec-f303a92901c5",
   "metadata": {},
   "outputs": [],
   "source": []
  }
 ],
 "metadata": {
  "kernelspec": {
   "display_name": "Python 3 (ipykernel)",
   "language": "python",
   "name": "python3"
  },
  "language_info": {
   "codemirror_mode": {
    "name": "ipython",
    "version": 3
   },
   "file_extension": ".py",
   "mimetype": "text/x-python",
   "name": "python",
   "nbconvert_exporter": "python",
   "pygments_lexer": "ipython3",
   "version": "3.12.7"
  }
 },
 "nbformat": 4,
 "nbformat_minor": 5
}
