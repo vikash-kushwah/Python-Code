{
 "cells": [
  {
   "cell_type": "code",
   "execution_count": 9,
   "id": "1049647f",
   "metadata": {},
   "outputs": [
    {
     "name": "stdout",
     "output_type": "stream",
     "text": [
      "enter a number87\n",
      "not prime\n"
     ]
    }
   ],
   "source": [
    "# check whether the number is prime or not\n",
    "a=int(input(\"enter a number\"))\n",
    "b=0\n",
    "for i in range(2,a//2):         #for i in range(2,a) or from 2 to sqrt of a \n",
    "    if a%i==0:\n",
    "        b=b+i\n",
    "        break\n",
    "if b==0:\n",
    "    print(\"prime\")\n",
    "else:\n",
    "    print(\"not prime\")\n"
   ]
  },
  {
   "cell_type": "code",
   "execution_count": 16,
   "id": "53407eb0",
   "metadata": {},
   "outputs": [
    {
     "name": "stdout",
     "output_type": "stream",
     "text": [
      "enter a number:2545\n",
      "5452\n"
     ]
    }
   ],
   "source": [
    "#pallindrome number \n",
    "a=int(input(\"enter a number:\"))\n",
    "b=''\n",
    "while a>=10:\n",
    "    b=b+str(a%10)\n",
    "    a=a//10\n",
    "b=b+str(a)\n",
    "print(b)\n",
    "    "
   ]
  },
  {
   "cell_type": "code",
   "execution_count": 18,
   "id": "592515e1",
   "metadata": {},
   "outputs": [
    {
     "name": "stdout",
     "output_type": "stream",
     "text": [
      "*\n",
      "**\n",
      "***\n",
      "****\n"
     ]
    }
   ],
   "source": [
    "for i in range(1,5):\n",
    "    for j in range(3,1):\n",
    "        print(i*\"*\")\n",
    "        \n",
    "    "
   ]
  },
  {
   "cell_type": "code",
   "execution_count": null,
   "id": "d927fae9",
   "metadata": {},
   "outputs": [],
   "source": []
  }
 ],
 "metadata": {
  "kernelspec": {
   "display_name": "Python 3 (ipykernel)",
   "language": "python",
   "name": "python3"
  },
  "language_info": {
   "codemirror_mode": {
    "name": "ipython",
    "version": 3
   },
   "file_extension": ".py",
   "mimetype": "text/x-python",
   "name": "python",
   "nbconvert_exporter": "python",
   "pygments_lexer": "ipython3",
   "version": "3.10.10"
  }
 },
 "nbformat": 4,
 "nbformat_minor": 5
}
