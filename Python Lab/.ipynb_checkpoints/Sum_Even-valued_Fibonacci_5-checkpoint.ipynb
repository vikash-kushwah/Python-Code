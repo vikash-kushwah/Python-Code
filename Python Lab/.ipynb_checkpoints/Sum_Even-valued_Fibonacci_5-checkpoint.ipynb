{
 "cells": [
  {
   "cell_type": "code",
   "execution_count": 2,
   "id": "3d904ceb-bbf0-4d86-be89-96ac93b05fe1",
   "metadata": {},
   "outputs": [
    {
     "name": "stdout",
     "output_type": "stream",
     "text": [
      "Sum of even-valued Fibonacci numbers: 10\n"
     ]
    }
   ],
   "source": [
    "#Calculates the sum of even-valued terms in the Fibonacci sequence up to a given limit.\n",
    "def sum_even_fibonacci(limit):\n",
    "    a, b = 0, 1\n",
    "    even_sum = 0\n",
    "    while a <= limit:\n",
    "        if a % 2 == 0:\n",
    "            even_sum += a\n",
    "        a, b = b, a + b\n",
    "    return even_sum\n",
    "\n",
    "result = sum_even_fibonacci(4000000)\n",
    "print(\"Sum of even-valued Fibonacci numbers:\", result)"
   ]
  },
  {
   "cell_type": "code",
   "execution_count": null,
   "id": "51a34081-46a6-4482-8b18-3db769bc981d",
   "metadata": {},
   "outputs": [],
   "source": []
  }
 ],
 "metadata": {
  "kernelspec": {
   "display_name": "Python 3 (ipykernel)",
   "language": "python",
   "name": "python3"
  },
  "language_info": {
   "codemirror_mode": {
    "name": "ipython",
    "version": 3
   },
   "file_extension": ".py",
   "mimetype": "text/x-python",
   "name": "python",
   "nbconvert_exporter": "python",
   "pygments_lexer": "ipython3",
   "version": "3.12.7"
  }
 },
 "nbformat": 4,
 "nbformat_minor": 5
}
