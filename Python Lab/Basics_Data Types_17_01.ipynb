{
 "cells": [
  {
   "cell_type": "code",
   "execution_count": 17,
   "id": "aaae69a4-4b91-4270-a51d-825199c3d2a9",
   "metadata": {},
   "outputs": [
    {
     "name": "stdout",
     "output_type": "stream",
     "text": [
      "Python Lab\n"
     ]
    }
   ],
   "source": [
    "print(\"Python Lab\")"
   ]
  },
  {
   "cell_type": "code",
   "execution_count": 5,
   "id": "b6ec05f4-c068-4768-a2a0-12d506c1d8cf",
   "metadata": {},
   "outputs": [
    {
     "name": "stdout",
     "output_type": "stream",
     "text": [
      "hello\n"
     ]
    }
   ],
   "source": [
    "def hellos():\n",
    "    print(\"hello\")\n",
    "\n",
    "hellos()"
   ]
  },
  {
   "cell_type": "code",
   "execution_count": 16,
   "id": "0f2f4a0c-38c7-4f3a-82f0-6ddf427b477b",
   "metadata": {},
   "outputs": [
    {
     "name": "stdin",
     "output_type": "stream",
     "text": [
      "Enter your name:  vikash\n"
     ]
    },
    {
     "name": "stdout",
     "output_type": "stream",
     "text": [
      "Hi,  vikash\n"
     ]
    },
    {
     "name": "stdin",
     "output_type": "stream",
     "text": [
      "Enter your age: 21\n"
     ]
    },
    {
     "name": "stdout",
     "output_type": "stream",
     "text": [
      "Your birth year is: 2003 - 2004\n"
     ]
    }
   ],
   "source": [
    "name=input(\"Enter your name: \")\n",
    "print(\"Hi, \",name)\n",
    "age=int(input(\"Enter your age:\"))\n",
    "B_year=2025-age\n",
    "print(\"Your birth year is:\",B_year-1,\"-\",B_year)\n"
   ]
  },
  {
   "cell_type": "code",
   "execution_count": 30,
   "id": "6206e768-ad46-4b65-87c1-6cf8ff29b881",
   "metadata": {},
   "outputs": [
    {
     "name": "stdout",
     "output_type": "stream",
     "text": [
      "10 20 C 5.4\n",
      "<class 'str'> <class 'str'> <class 'int'> <class 'int'> <class 'float'>\n",
      "30\n",
      "15.4\n"
     ]
    }
   ],
   "source": [
    "a=10\n",
    "b=20\n",
    "c=\"C\"\n",
    "z='z'\n",
    "d=5.4\n",
    "print(a,b,c,d)\n",
    "print(type(c),type(z),type(a),type(b),type(d))\n",
    "print(a+b)\n",
    "print(a+d)\n",
    "#print(b+c)     #it will give error since adding int with str\n",
    "#print(c+d)     #it will give error since adding int with str\n"
   ]
  },
  {
   "cell_type": "code",
   "execution_count": 3,
   "id": "835bee46-fac0-451b-bdd2-e59739456258",
   "metadata": {},
   "outputs": [
    {
     "name": "stdout",
     "output_type": "stream",
     "text": [
      "4\n",
      "4\n"
     ]
    }
   ],
   "source": [
    "a,b=4,2\n",
    "if(a>b):\n",
    "    print(a)\n",
    "else:\n",
    "    print(b)\n",
    "    \n",
    "print(a if a>b else b)"
   ]
  },
  {
   "cell_type": "code",
   "execution_count": null,
   "id": "523b6652-b574-4309-a2bb-80866c6f65e8",
   "metadata": {},
   "outputs": [],
   "source": []
  }
 ],
 "metadata": {
  "kernelspec": {
   "display_name": "Python 3 (ipykernel)",
   "language": "python",
   "name": "python3"
  },
  "language_info": {
   "codemirror_mode": {
    "name": "ipython",
    "version": 3
   },
   "file_extension": ".py",
   "mimetype": "text/x-python",
   "name": "python",
   "nbconvert_exporter": "python",
   "pygments_lexer": "ipython3",
   "version": "3.12.7"
  }
 },
 "nbformat": 4,
 "nbformat_minor": 5
}
