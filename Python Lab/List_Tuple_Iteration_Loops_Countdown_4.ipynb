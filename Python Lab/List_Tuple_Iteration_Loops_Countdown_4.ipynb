{
 "cells": [
  {
   "cell_type": "code",
   "execution_count": 13,
   "id": "03ba741b-824f-453a-a869-b268f4bbbd74",
   "metadata": {},
   "outputs": [
    {
     "name": "stdout",
     "output_type": "stream",
     "text": [
      "Original List: [1, 2, 3, 'hello', True]\n",
      "First element: 1\n",
      "Last element: True\n",
      "Modified List: [1, 2, 5, 'hello', True]\n",
      "List after adding elements: [1, 'world', 2, 5, 'hello', True, False]\n",
      "List after removing elements: ['world', 2, 5, True, False]\n"
     ]
    }
   ],
   "source": [
    "# Program to demonstrate list and tuple in python\n",
    "\"\"\"Demonstrates list operations.\"\"\"\n",
    "li = [1, 2, 3, \"hello\", True]\n",
    "print(\"Original List:\", li)\n",
    "\n",
    "  # Accessing elements\n",
    "print(\"First element:\", li[0])\n",
    "print(\"Last element:\", li[-1])\n",
    "\n",
    "  # Modifying elements\n",
    "li[2] = 5\n",
    "print(\"Modified List:\", li)\n",
    "\n",
    "  # Adding elements\n",
    "li.append(False)                             #append at last\n",
    "li.insert(1, \"world\")\n",
    "print(\"List after adding elements:\", li)\n",
    "\n",
    "  # Removing elements\n",
    "li.remove(\"hello\")\n",
    "del li[0]                                    #delete from the starting\n",
    "print(\"List after removing elements:\", li)"
   ]
  },
  {
   "cell_type": "code",
   "execution_count": 14,
   "id": "8934ca72-c818-4c66-ad01-2458ca4f7419",
   "metadata": {},
   "outputs": [
    {
     "name": "stdout",
     "output_type": "stream",
     "text": [
      "Original Tuple: (1, 2.5, 'apple', True)\n",
      "First element: 1\n",
      "Last element: True\n",
      "New Tuple: (1, 2.5, 'apple', True, 'orange', False)\n"
     ]
    }
   ],
   "source": [
    "\"\"\"Demonstrates tuple operations.\"\"\"\n",
    "tp = (1, 2.5, \"apple\", True)\n",
    "print(\"Original Tuple:\", tp)\n",
    "\n",
    "  # Accessing elements\n",
    "print(\"First element:\", tp[0])\n",
    "print(\"Last element:\", tp[-1])\n",
    "\n",
    "  # Tuples are immutable\n",
    "# tp[1] = 3  # This will raise an error\n",
    "\n",
    "  # Creating a new tuple with modified values\n",
    "new_tuple = tp + (\"orange\", False)\n",
    "print(\"New Tuple:\", new_tuple)"
   ]
  },
  {
   "cell_type": "code",
   "execution_count": 3,
   "id": "7fe74677-9d58-4744-8200-e248bc05f272",
   "metadata": {},
   "outputs": [
    {
     "name": "stdout",
     "output_type": "stream",
     "text": [
      "1\n",
      "2\n",
      "3\n",
      "hello\n",
      "True\n"
     ]
    }
   ],
   "source": [
    "# Write a program using a forloop that loops over a sequence.\n",
    "my_list = [1, 2, 3, \"hello\", True]\n",
    "\n",
    "# Iterate over the sequence using a for loop\n",
    "for item in my_list:\n",
    "    print(item) \n"
   ]
  },
  {
   "cell_type": "code",
   "execution_count": 4,
   "id": "ac16381a-79ab-4806-84e8-26d690fc5921",
   "metadata": {},
   "outputs": [
    {
     "name": "stdout",
     "output_type": "stream",
     "text": [
      "v\n",
      "i\n",
      "k\n",
      "a\n",
      "s\n",
      "h\n"
     ]
    }
   ],
   "source": [
    "name=\"vikash\"\n",
    "for i in name:\n",
    "    print(i)"
   ]
  },
  {
   "cell_type": "code",
   "execution_count": 3,
   "id": "2f9536bc-bcf2-4dee-8118-38f14ba9683d",
   "metadata": {},
   "outputs": [
    {
     "name": "stdin",
     "output_type": "stream",
     "text": [
      "Enter a number: 9\n"
     ]
    },
    {
     "name": "stdout",
     "output_type": "stream",
     "text": [
      "9\n",
      "8\n",
      "7\n",
      "6\n",
      "5\n",
      "4\n",
      "3\n",
      "2\n",
      "1\n",
      "0\n"
     ]
    }
   ],
   "source": [
    "#Countdown using while loop from the number to 0\n",
    "n=int(input(\"Enter a number:\"))\n",
    "while(n>=0):\n",
    "    print(n)\n",
    "    n-=1\n"
   ]
  },
  {
   "cell_type": "code",
   "execution_count": null,
   "id": "9035794e-b61c-4760-a9f7-6022bfa2f378",
   "metadata": {},
   "outputs": [],
   "source": []
  }
 ],
 "metadata": {
  "kernelspec": {
   "display_name": "Python 3 (ipykernel)",
   "language": "python",
   "name": "python3"
  },
  "language_info": {
   "codemirror_mode": {
    "name": "ipython",
    "version": 3
   },
   "file_extension": ".py",
   "mimetype": "text/x-python",
   "name": "python",
   "nbconvert_exporter": "python",
   "pygments_lexer": "ipython3",
   "version": "3.12.7"
  }
 },
 "nbformat": 4,
 "nbformat_minor": 5
}
