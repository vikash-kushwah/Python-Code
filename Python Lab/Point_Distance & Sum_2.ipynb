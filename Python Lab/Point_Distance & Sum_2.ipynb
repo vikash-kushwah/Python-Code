{
 "cells": [
  {
   "cell_type": "code",
   "execution_count": 1,
   "id": "6796d8a9-4260-4eed-9a8a-f1ddc63be456",
   "metadata": {},
   "outputs": [
    {
     "name": "stdin",
     "output_type": "stream",
     "text": [
      "Enter x1: 5\n",
      "Enter y1: 4\n",
      "Enter x2: 2\n",
      "Enter y2: 6\n"
     ]
    },
    {
     "name": "stdout",
     "output_type": "stream",
     "text": [
      "Distance: 3.605551275463989\n",
      "Distance: 3.605551275463989\n"
     ]
    }
   ],
   "source": [
    "#program to compute distance between two points taking input from the user\n",
    "\n",
    "import math\n",
    "x1=int(input(\"Enter x1:\"))\n",
    "y1=int(input(\"Enter y1:\"))\n",
    "x2=int(input(\"Enter x2:\"))\n",
    "y2=int(input(\"Enter y2:\"))\n",
    "D=math.sqrt(pow(x2-x1,2)+pow(y2-y1,2))   #using functions of math library\n",
    "M=((x2-x1)**2+(y2-y1)**2)**0.5           #direct method \n",
    "print(\"Distance:\",D)\n",
    "print(\"Distance:\",M)"
   ]
  },
  {
   "cell_type": "code",
   "execution_count": 1,
   "id": "01c17825-1699-47ed-84c2-7fa733ec43ed",
   "metadata": {},
   "outputs": [
    {
     "name": "stdin",
     "output_type": "stream",
     "text": [
      "Enter 1st number: 4\n",
      "Enter 2nd number: 5\n"
     ]
    },
    {
     "name": "stdout",
     "output_type": "stream",
     "text": [
      "Addition is: 45 <class 'str'> <class 'str'>\n",
      "Addition is: 9 <class 'int'> <class 'int'>\n"
     ]
    }
   ],
   "source": [
    "#program that takes 2 numbers and prints its sum.\n",
    "\n",
    "a=input(\"Enter 1st number:\")\n",
    "b=input(\"Enter 2nd number:\")\n",
    "print(\"Addition is:\",a+b,type(a),type(b))            #it will concatenate a and b\n",
    "a=int(a)\n",
    "b=int(b)\n",
    "print(\"Addition is:\",a+b,type(a),type(b))  #it will add a and b"
   ]
  },
  {
   "cell_type": "code",
   "execution_count": null,
   "id": "f275f4f8-f30d-4570-a2ff-7550a147b1b0",
   "metadata": {},
   "outputs": [],
   "source": []
  }
 ],
 "metadata": {
  "kernelspec": {
   "display_name": "Python 3 (ipykernel)",
   "language": "python",
   "name": "python3"
  },
  "language_info": {
   "codemirror_mode": {
    "name": "ipython",
    "version": 3
   },
   "file_extension": ".py",
   "mimetype": "text/x-python",
   "name": "python",
   "nbconvert_exporter": "python",
   "pygments_lexer": "ipython3",
   "version": "3.12.7"
  }
 },
 "nbformat": 4,
 "nbformat_minor": 5
}
