{
 "cells": [
  {
   "cell_type": "code",
   "execution_count": 15,
   "id": "e669409b-d468-4cf3-be64-e629c17a4144",
   "metadata": {},
   "outputs": [
    {
     "name": "stdout",
     "output_type": "stream",
     "text": [
      "prime\n"
     ]
    }
   ],
   "source": [
    "#Find sum of all the primes below two million.\n",
    "def check_prime(n):\n",
    "    for i in range(2,int(n**0.5)+1):\n",
    "        if(n%i==0):\n",
    "            return \"not prime\"\n",
    "    return \"prime\"\n",
    "print(check_prime(5))"
   ]
  },
  {
   "cell_type": "code",
   "execution_count": 1,
   "id": "14c0b5b2-e185-401c-8024-5fd5d000715f",
   "metadata": {},
   "outputs": [
    {
     "name": "stdout",
     "output_type": "stream",
     "text": [
      "Sum is: 142913828922\n"
     ]
    }
   ],
   "source": [
    "def sum_prime(n):\n",
    "    for i in range(2,int(n**0.5)+1):\n",
    "        if(n%i==0):\n",
    "            return 0\n",
    "    # print(n)\n",
    "    return n\n",
    "\n",
    "\n",
    "sum=0\n",
    "a=2\n",
    "while(a<2000000):\n",
    "    sum+=sum_prime(a)\n",
    "    a+=1\n",
    "print(\"Sum is:\",sum)\n",
    "    "
   ]
  },
  {
   "cell_type": "code",
   "execution_count": null,
   "id": "a21745d4-6aa9-4112-a523-71128316f736",
   "metadata": {},
   "outputs": [],
   "source": []
  }
 ],
 "metadata": {
  "kernelspec": {
   "display_name": "Python 3 (ipykernel)",
   "language": "python",
   "name": "python3"
  },
  "language_info": {
   "codemirror_mode": {
    "name": "ipython",
    "version": 3
   },
   "file_extension": ".py",
   "mimetype": "text/x-python",
   "name": "python",
   "nbconvert_exporter": "python",
   "pygments_lexer": "ipython3",
   "version": "3.12.7"
  }
 },
 "nbformat": 4,
 "nbformat_minor": 5
}
