{
 "cells": [
  {
   "cell_type": "code",
   "execution_count": 2,
   "id": "d75fbece-a8a5-4fe2-9896-43876ca1886f",
   "metadata": {},
   "outputs": [
    {
     "name": "stdin",
     "output_type": "stream",
     "text": [
      "Enter first number: 4\n",
      "Enter second number: 3\n",
      "Enter third number: 7\n"
     ]
    },
    {
     "name": "stdout",
     "output_type": "stream",
     "text": [
      "7 is the greatest\n"
     ]
    }
   ],
   "source": [
    "a=int(input(\"Enter first number:\"))\n",
    "b=int(input(\"Enter second number:\"))\n",
    "c=int(input(\"Enter third number:\"))\n",
    "if(a>b and a>c):\n",
    "    print(a,\"is the greatest\")\n",
    "elif(b>a and b>c):\n",
    "    print(b,\"is the greatest\")\n",
    "else:\n",
    "    print(c,\"is the greatest\")"
   ]
  },
  {
   "cell_type": "code",
   "execution_count": 3,
   "id": "1a004ec8-f4e4-4f27-828f-2935aebab93a",
   "metadata": {},
   "outputs": [],
   "source": [
    "def odd_even(n):\n",
    "    if(n%2==0):\n",
    "        print(n,\"is Even\")\n",
    "    else:\n",
    "        print(n,\"is odd\")"
   ]
  },
  {
   "cell_type": "code",
   "execution_count": 4,
   "id": "2a72d5e4-4980-4345-816d-d049e9b1d35a",
   "metadata": {},
   "outputs": [
    {
     "name": "stdout",
     "output_type": "stream",
     "text": [
      "4 is Even\n",
      "3 is odd\n",
      "7 is odd\n"
     ]
    }
   ],
   "source": [
    "odd_even(a)\n",
    "odd_even(b)\n",
    "odd_even(c)"
   ]
  },
  {
   "cell_type": "code",
   "execution_count": 18,
   "id": "6a219eea-335a-4c86-a13e-853cbe9f7b2e",
   "metadata": {},
   "outputs": [
    {
     "name": "stdin",
     "output_type": "stream",
     "text": [
      "Enter Principal Amount:  1000\n",
      "Enter Annual Interest Rate (as a percentage):  20\n",
      "Enter Time (in years):  2\n"
     ]
    },
    {
     "name": "stdout",
     "output_type": "stream",
     "text": [
      "Simple Interest: 400.00\n",
      "Final Amount: 1400.00\n"
     ]
    }
   ],
   "source": [
    "# Simple Interest Calculator\n",
    "A = float(input(\"Enter Principal Amount: \"))\n",
    "R = float(input(\"Enter Annual Interest Rate (as a percentage): \"))\n",
    "T = float(input(\"Enter Time (in years): \"))\n",
    "\n",
    "# Calculate Simple Interest\n",
    "simple_interest = (A * R * T) / 100\n",
    "\n",
    "# Display Results\n",
    "print(f\"Simple Interest: {simple_interest:.2f}\")\n",
    "print(f\"Final Amount: {A + simple_interest:.2f}\")\n"
   ]
  },
  {
   "cell_type": "code",
   "execution_count": 12,
   "id": "880de44a-d039-4377-bae7-917c4d5db224",
   "metadata": {},
   "outputs": [
    {
     "name": "stdin",
     "output_type": "stream",
     "text": [
      "Enter Principal Amount:  1000\n",
      "Enter Annual Interest Rate:  5\n",
      "Enter Number of Times Interest is Compounded per Year:  2\n",
      "Enter Number of Years:  2\n"
     ]
    },
    {
     "name": "stdout",
     "output_type": "stream",
     "text": [
      "Compound Interest:103.81\n",
      "Final Amount: 1103.81\n"
     ]
    }
   ],
   "source": [
    "# Compound Interest Calculator\n",
    "P = float(input(\"Enter Principal Amount: \"))\n",
    "r = float(input(\"Enter Annual Interest Rate: \")) / 100  # Convert percentage to decimal\n",
    "n = int(input(\"Enter Number of Times Interest is Compounded per Year: \"))\n",
    "t = float(input(\"Enter Number of Years: \"))\n",
    "\n",
    "# Calculate final amount\n",
    "final_amount = P * (1 + (r / n))**(n * t)\n",
    "\n",
    "# Display the result\n",
    "print(f\"Compound Interest:{final_amount-P:.2f}\")\n",
    "print(f\"Final Amount: {final_amount:.2f}\")\n"
   ]
  },
  {
   "cell_type": "code",
   "execution_count": 9,
   "id": "e3215b4e-a180-438f-90b1-67dc4ab72392",
   "metadata": {},
   "outputs": [
    {
     "name": "stdout",
     "output_type": "stream",
     "text": [
      "Age is a\n",
      "Age is {a}\n",
      "A is: 21 B is: 43 C is: 4\n",
      "Age is 21\n",
      "A is: 21 B is:43 C is:4\n"
     ]
    }
   ],
   "source": [
    "a=21\n",
    "b=43\n",
    "c=4\n",
    "print(\"Age is a\")\n",
    "print(\"Age is {a}\")\n",
    "print(\"A is:\",a,\"B is:\",b , \"C is:\",c)\n",
    "print(f\"Age is {a}\")                        #it will take  value of variable inside {}\n",
    "print(f\"A is: {a} B is:{b} C is:{c}\")\n"
   ]
  },
  {
   "cell_type": "code",
   "execution_count": null,
   "id": "3831e715-df6d-4ce2-b42f-ef9098d9e3f0",
   "metadata": {},
   "outputs": [],
   "source": []
  }
 ],
 "metadata": {
  "kernelspec": {
   "display_name": "Python 3 (ipykernel)",
   "language": "python",
   "name": "python3"
  },
  "language_info": {
   "codemirror_mode": {
    "name": "ipython",
    "version": 3
   },
   "file_extension": ".py",
   "mimetype": "text/x-python",
   "name": "python",
   "nbconvert_exporter": "python",
   "pygments_lexer": "ipython3",
   "version": "3.12.7"
  }
 },
 "nbformat": 4,
 "nbformat_minor": 5
}
