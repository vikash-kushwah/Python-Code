{
 "cells": [
  {
   "cell_type": "code",
   "execution_count": null,
   "id": "d1287a75-0239-4d78-b059-35612001a518",
   "metadata": {},
   "outputs": [],
   "source": [
    "'''You are given an integer array arr[]. Your task is to find the smallest positive number missing from the array.\n",
    "Note: Positive number starts from 1. The array can have negative integers too.\n",
    "\n",
    "Input: arr[] = [2, -3, 4, 1, 1, 7]\n",
    "Output: 3\n",
    "Explanation: Smallest positive missing number is 3.\n",
    "'''"
   ]
  },
  {
   "cell_type": "code",
   "execution_count": 4,
   "id": "bab99d97-bfcd-4646-ab3e-ab0815ac9c0a",
   "metadata": {},
   "outputs": [
    {
     "name": "stdout",
     "output_type": "stream",
     "text": [
      "3\n",
      "1\n"
     ]
    }
   ],
   "source": [
    "#Function to find the smallest positive number missing from the array.\n",
    "def missingNumber(arr):                               #time Complexity: o(n**2)\n",
    "    for i in range(len(arr)+1):\n",
    "        if(i+1 not in arr):\n",
    "            return i+1\n",
    "\n",
    "arr = [2, -3, 4, 1, 1, 7]\n",
    "print(missingNumber(arr))\n",
    "\n",
    "arr2= [-8, 0, -1, -4, -3]\n",
    "print(missingNumber(arr2))"
   ]
  },
  {
   "cell_type": "code",
   "execution_count": 5,
   "id": "5041781a-47e3-4583-8ac3-2f8528f5bc02",
   "metadata": {},
   "outputs": [
    {
     "name": "stdout",
     "output_type": "stream",
     "text": [
      "3\n",
      "1\n"
     ]
    }
   ],
   "source": [
    "def missingNumber2(self,arr):                        #time complexity: o(n) #space complexity: o(n)\n",
    "    temp_arr=set(arr)\n",
    "    for i in range(len(arr)+1):\n",
    "        if(i+1 not in temp_arr):\n",
    "            return i+1\n",
    "\n",
    "arr = [2, -3, 4, 1, 1, 7]\n",
    "print(missingNumber(arr))\n",
    "\n",
    "arr2= [-8, 0, -1, -4, -3]\n",
    "print(missingNumber(arr2))"
   ]
  },
  {
   "cell_type": "code",
   "execution_count": null,
   "id": "9fae82a1-5bea-46f1-82d3-e08e88a669c4",
   "metadata": {},
   "outputs": [],
   "source": []
  }
 ],
 "metadata": {
  "kernelspec": {
   "display_name": "Python 3 (ipykernel)",
   "language": "python",
   "name": "python3"
  },
  "language_info": {
   "codemirror_mode": {
    "name": "ipython",
    "version": 3
   },
   "file_extension": ".py",
   "mimetype": "text/x-python",
   "name": "python",
   "nbconvert_exporter": "python",
   "pygments_lexer": "ipython3",
   "version": "3.12.7"
  }
 },
 "nbformat": 4,
 "nbformat_minor": 5
}
