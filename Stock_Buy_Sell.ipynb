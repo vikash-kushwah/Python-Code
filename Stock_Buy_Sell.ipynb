{
 "cells": [
  {
   "cell_type": "code",
   "execution_count": null,
   "id": "f7236687-dd4b-48ec-953c-2d32b9426d7a",
   "metadata": {},
   "outputs": [],
   "source": [
    "\"\"\"The cost of stock on each day is given in an array price[]. Each day you may decide to either buy or sell the stock i at price[i], \n",
    "    you can even buy and sell the stock on the same day. Find the maximum profit that you can get.\n",
    "Note: A stock can only be sold if it has been bought previously and multiple stocks cannot be held on any given day.\"\"\""
   ]
  },
  {
   "cell_type": "code",
   "execution_count": 39,
   "id": "31dbca47-22b9-4909-9507-083fdde0781e",
   "metadata": {},
   "outputs": [
    {
     "name": "stdout",
     "output_type": "stream",
     "text": [
      "80\n",
      "80\n",
      "50\n",
      "495\n",
      "160\n"
     ]
    },
    {
     "data": {
      "text/plain": [
       "865"
      ]
     },
     "execution_count": 39,
     "metadata": {},
     "output_type": "execute_result"
    }
   ],
   "source": [
    "def maximumProfit(prices):              # multiple buy sell\n",
    "        profit=0\n",
    "        for i in range(len(prices)-1):\n",
    "            if(prices[i]<prices[i+1]):\n",
    "                print(prices[i+1]-prices[i])\n",
    "                profit+=prices[i+1]-prices[i]\n",
    "                # print(profit)\n",
    "        return profit\n",
    "prices= [100, 180, 260, 310, 40, 535, 695]\n",
    "maximumProfit(prices)"
   ]
  },
  {
   "cell_type": "code",
   "execution_count": null,
   "id": "0f686407-20fa-42c0-bab6-798b6a21bd46",
   "metadata": {},
   "outputs": [],
   "source": [
    "\"\"\"Given an array prices[] of length n, representing the prices of the stocks on different days. \n",
    "The task is to find the maximum profit possible by buying and selling the stocks on different days when at most one transaction is allowed. \n",
    "Here one transaction means 1 buy + 1 Sell. If it is not possible to make a profit then return 0.\n",
    "\n",
    "Note: Stock must be bought before being sold.\"\"\""
   ]
  },
  {
   "cell_type": "code",
   "execution_count": 40,
   "id": "91572754-e452-41b5-ab6c-05e96e352182",
   "metadata": {},
   "outputs": [
    {
     "name": "stdout",
     "output_type": "stream",
     "text": [
      "8\n",
      "0\n"
     ]
    }
   ],
   "source": [
    "def maximumProfit2(prices):             # 1 Buy +1 Sell               # Here time complexity is o(n**2)\n",
    "        l=len(prices)\n",
    "        profit=0\n",
    "        for i in range(l-1):\n",
    "            for j in range(i,l):\n",
    "                x,y=prices[j],prices[i]\n",
    "                if(x-y >profit):\n",
    "                    profit=x-y\n",
    "        return profit\n",
    "\n",
    "\n",
    "prices= [7, 10, 1, 3, 6, 9, 2]\n",
    "print(maximumProfit2(prices))\n",
    "prices2=[7,6,5,4,3,2]\n",
    "print(maximumProfit2(prices2))"
   ]
  },
  {
   "cell_type": "code",
   "execution_count": 41,
   "id": "f3e3f1f4-e1b6-4763-9f51-033af2c0e6d1",
   "metadata": {},
   "outputs": [
    {
     "name": "stdout",
     "output_type": "stream",
     "text": [
      "8\n",
      "0\n"
     ]
    }
   ],
   "source": [
    "def maximumProfit3(prices):                 # 1 Buy + 1 Sell         # Here time complexity is o(n),o(1)\n",
    "    if not prices:\n",
    "        return 0\n",
    "    min_price=float('inf')   #using to track minimum price\n",
    "    max_profit=0\n",
    "    for i in prices:\n",
    "        if(i< min_price):\n",
    "            min_price=i\n",
    "        elif(i-min_price>max_profit):\n",
    "            max_profit=i-min_price\n",
    "    return max_profit\n",
    "\n",
    "prices= [7, 10, 1, 3, 6, 9, 2]\n",
    "print(maximumProfit3(prices))\n",
    "prices2=[7,6,5,4,3,2]\n",
    "print(maximumProfit3(prices2))"
   ]
  },
  {
   "cell_type": "code",
   "execution_count": null,
   "id": "7d779b00-eb3e-469f-b0c4-c9f0bd557781",
   "metadata": {},
   "outputs": [],
   "source": []
  }
 ],
 "metadata": {
  "kernelspec": {
   "display_name": "Python 3 (ipykernel)",
   "language": "python",
   "name": "python3"
  },
  "language_info": {
   "codemirror_mode": {
    "name": "ipython",
    "version": 3
   },
   "file_extension": ".py",
   "mimetype": "text/x-python",
   "name": "python",
   "nbconvert_exporter": "python",
   "pygments_lexer": "ipython3",
   "version": "3.12.7"
  }
 },
 "nbformat": 4,
 "nbformat_minor": 5
}
