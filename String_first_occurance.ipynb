{
 "cells": [
  {
   "cell_type": "code",
   "execution_count": 3,
   "id": "fc43e7c5-5107-48bc-9494-47559365ed4d",
   "metadata": {},
   "outputs": [
    {
     "name": "stdout",
     "output_type": "stream",
     "text": [
      "13\n"
     ]
    }
   ],
   "source": [
    "\"\"\"Find the Index of the First Occurrence in a String\"\"\"\n",
    "\n",
    "def returnIndex(String,Pattern):\n",
    "            return String.find(Pattern)\n",
    "A=\"hellomynameisvikashkushwahavikash\"\n",
    "S=\"vikas\"\n",
    "print(returnIndex(A,S))"
   ]
  },
  {
   "cell_type": "code",
   "execution_count": null,
   "id": "73a9b95e-99cb-4122-b074-7b7bcf5917d2",
   "metadata": {},
   "outputs": [],
   "source": []
  }
 ],
 "metadata": {
  "kernelspec": {
   "display_name": "Python 3 (ipykernel)",
   "language": "python",
   "name": "python3"
  },
  "language_info": {
   "codemirror_mode": {
    "name": "ipython",
    "version": 3
   },
   "file_extension": ".py",
   "mimetype": "text/x-python",
   "name": "python",
   "nbconvert_exporter": "python",
   "pygments_lexer": "ipython3",
   "version": "3.12.7"
  }
 },
 "nbformat": 4,
 "nbformat_minor": 5
}
