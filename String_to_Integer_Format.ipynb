{
 "cells": [
  {
   "cell_type": "code",
   "execution_count": null,
   "id": "24cb212c-d986-4298-9464-0d57f987d846",
   "metadata": {},
   "outputs": [],
   "source": [
    "'''Given a string s, the objective is to convert it into integer format without utilizing any built-in functions. \n",
    "    Refer the below steps to know about atoi() function.\n",
    "Cases for atoi() conversion:\n",
    "\n",
    "Skip any leading whitespaces.\n",
    "Check for a sign (‘+’ or ‘-‘), default to positive if no sign is present.\n",
    "Read the integer by ignoring leading zeros until a non-digit character is encountered or end of the string is reached. If no digits are present, return 0.\n",
    "If the integer is greater than 231 – 1, then return 231 – 1 and if the integer is smaller than -231, then return -231.\n",
    "Examples:\n",
    "\n",
    "Input: s = \"-123\"\n",
    "Output: -123\n",
    "Explanation: It is possible to convert -123 into an integer so we returned in the form of an integer\n",
    "'''"
   ]
  },
  {
   "cell_type": "code",
   "execution_count": 6,
   "id": "10cfa9aa-877c-4a72-ac60-881f7eb3dc39",
   "metadata": {},
   "outputs": [
    {
     "name": "stdout",
     "output_type": "stream",
     "text": [
      "-123\n",
      "-12\n",
      "0\n"
     ]
    }
   ],
   "source": [
    "def myAtoi(s):\n",
    "        s=s.lstrip()  # remove space\n",
    "        if not s:\n",
    "            return 0\n",
    "        sign,i,res=1,0,0\n",
    "        \n",
    "        if s[0] in \"+-\":\n",
    "            if( s[0]=='-'):\n",
    "                sign=-1\n",
    "            else:\n",
    "                sign=1\n",
    "            i+=1\n",
    "        \n",
    "        while(i<len(s) and s[i].isdigit()):\n",
    "            res=res*10+int(s[i])\n",
    "            i+=1\n",
    "        \n",
    "        res*=sign  #apply sign \n",
    "        \n",
    "        return max(-2**31, min(res,2**31-1))\n",
    "\n",
    "s = \"-123\"\n",
    "print(myAtoi(s))\n",
    "\n",
    "s2 = \"  -0012gfg4\"\n",
    "print(myAtoi(s2))\n",
    "\n",
    "s3 = \"  -\"\n",
    "print(myAtoi(s3))\n"
   ]
  },
  {
   "cell_type": "code",
   "execution_count": 7,
   "id": "2ec531c4-a72a-4c74-9ee8-5d8ed17c117b",
   "metadata": {},
   "outputs": [
    {
     "name": "stdout",
     "output_type": "stream",
     "text": [
      "2147483647\n"
     ]
    }
   ],
   "source": [
    "s4 = \" 1231231231311133\"\n",
    "print(myAtoi(s4))"
   ]
  },
  {
   "cell_type": "code",
   "execution_count": null,
   "id": "1f2c2d0a-9c21-4cc8-8fe8-48d37583bacc",
   "metadata": {},
   "outputs": [],
   "source": []
  }
 ],
 "metadata": {
  "kernelspec": {
   "display_name": "Python 3 (ipykernel)",
   "language": "python",
   "name": "python3"
  },
  "language_info": {
   "codemirror_mode": {
    "name": "ipython",
    "version": 3
   },
   "file_extension": ".py",
   "mimetype": "text/x-python",
   "name": "python",
   "nbconvert_exporter": "python",
   "pygments_lexer": "ipython3",
   "version": "3.12.7"
  }
 },
 "nbformat": 4,
 "nbformat_minor": 5
}
