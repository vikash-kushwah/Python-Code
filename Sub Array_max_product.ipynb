{
 "cells": [
  {
   "cell_type": "code",
   "execution_count": null,
   "id": "8c9eb78c-f879-4638-bded-643a3b55a3bd",
   "metadata": {},
   "outputs": [],
   "source": [
    "\"\"\"Given an array arr[] that contains positive and negative integers (may contain 0 as well). \n",
    "    Find the maximum product that we can get in a subarray of arr[].\n",
    "Note: It is guaranteed that the output fits in a 32-bit integer.\n",
    "\n",
    "Input: arr[] = [-2, 6, -3, -10, 0, 2]\n",
    "Output: 180\n",
    "Explanation: The subarray with maximum product is {6, -3, -10} with product = 6 * (-3) * (-10) = 180.\n",
    "\"\"\""
   ]
  },
  {
   "cell_type": "code",
   "execution_count": 53,
   "id": "9edb3c3b-bcbc-4347-ae9f-f288e1dfcc43",
   "metadata": {},
   "outputs": [
    {
     "name": "stdout",
     "output_type": "stream",
     "text": [
      "180\n",
      "30\n"
     ]
    }
   ],
   "source": [
    "def maxProduct(arr):                            # Time complexity o(n**2)\n",
    "    max_product=1\n",
    "    for i in range(len(arr)):\n",
    "        prod=arr[i]\n",
    "        for j in range(i+1,len(arr)):\n",
    "            prod*=arr[j]\n",
    "            # print(prod)\n",
    "            if(prod>max_product):\n",
    "                max_product=prod\n",
    "        # print(max_product)\n",
    "    return max_product\n",
    "    \n",
    "arr = [-2, 6, -3, -10, 0, 2]\n",
    "print(maxProduct(arr))\n",
    "\n",
    "arr2= [-1, -3, -10, 0, 6]\n",
    "print(maxProduct(arr2))"
   ]
  },
  {
   "cell_type": "code",
   "execution_count": 54,
   "id": "c7c98116-dd37-4cad-b16c-49324766544e",
   "metadata": {},
   "outputs": [
    {
     "name": "stdout",
     "output_type": "stream",
     "text": [
      "hello\n"
     ]
    }
   ],
   "source": [
    "print(\"hello\")"
   ]
  },
  {
   "cell_type": "code",
   "execution_count": 65,
   "id": "20a55ac5-ca2a-4539-a804-24a8d3bebc82",
   "metadata": {},
   "outputs": [
    {
     "name": "stdout",
     "output_type": "stream",
     "text": [
      "180\n"
     ]
    }
   ],
   "source": [
    "def maxProduct2(arr):                         # time complexity: o(n)\n",
    "    max_p = arr[0]                            # for storing positive product\n",
    "    min_p = arr[0]                            # for storing negative product\n",
    "    maximum_product = arr[0]\n",
    "    for i in range(1, len(arr)):\n",
    "        curr = arr[i]\n",
    "        temp_max = max(curr, max_p * curr, min_p * curr)\n",
    "        temp_min = min(curr, max_p * curr, min_p * curr)  # storing negative product for next iteration\n",
    "        '''used temp variables so that the both max_p, min_p can use the previous value of max_p ,min_p'''\n",
    "\n",
    "        max_p = temp_max\n",
    "        min_p = temp_min\n",
    "\n",
    "        maximum_product = max(maximum_product, max_p)  # comparing the maximum_product with maximum of this iteration\n",
    "    return maximum_product\n",
    "\n",
    "arr = [-2, 6, -3, -10, 0, 2]\n",
    "print(maxProduct2(arr))  # Output: 180"
   ]
  },
  {
   "cell_type": "code",
   "execution_count": null,
   "id": "05b7759b-ab0e-4b84-8a16-1fba0c8465b8",
   "metadata": {},
   "outputs": [],
   "source": []
  }
 ],
 "metadata": {
  "kernelspec": {
   "display_name": "Python 3 (ipykernel)",
   "language": "python",
   "name": "python3"
  },
  "language_info": {
   "codemirror_mode": {
    "name": "ipython",
    "version": 3
   },
   "file_extension": ".py",
   "mimetype": "text/x-python",
   "name": "python",
   "nbconvert_exporter": "python",
   "pygments_lexer": "ipython3",
   "version": "3.12.7"
  }
 },
 "nbformat": 4,
 "nbformat_minor": 5
}
