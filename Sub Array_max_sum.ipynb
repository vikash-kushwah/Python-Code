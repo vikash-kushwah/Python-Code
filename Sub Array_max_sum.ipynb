{
 "cells": [
  {
   "cell_type": "code",
   "execution_count": 26,
   "id": "d81f6196-1ef3-4c1d-97f2-48afb80b3efe",
   "metadata": {},
   "outputs": [
    {
     "data": {
      "text/plain": [
       "6"
      ]
     },
     "execution_count": 26,
     "metadata": {},
     "output_type": "execute_result"
    }
   ],
   "source": [
    "arr= [2, 3, -8, 7, -1, 2, 3]\n",
    "sum(arr[3:5])"
   ]
  },
  {
   "cell_type": "code",
   "execution_count": 22,
   "id": "2ece4e7a-f3ce-4827-9fa2-5556f82c4dd5",
   "metadata": {},
   "outputs": [
    {
     "name": "stdout",
     "output_type": "stream",
     "text": [
      "-inf\n"
     ]
    }
   ],
   "source": [
    "print(float('-inf'))"
   ]
  },
  {
   "cell_type": "code",
   "execution_count": null,
   "id": "9a4b845d-2ff6-4c10-be24-00a8f4ea0476",
   "metadata": {},
   "outputs": [],
   "source": [
    "\"\"\"Given an integer array arr[]. You need to find the maximum sum of a subarray.\n",
    "\n",
    "Input: arr[] = [2, 3, -8, 7, -1, 2, 3]\n",
    "Output: 11\n",
    "Explanation: The subarray {7, -1, 2, 3} has the largest sum 11.\"\"\""
   ]
  },
  {
   "cell_type": "code",
   "execution_count": 28,
   "id": "6b3c3868-c82d-49cf-9cac-6430eb70e675",
   "metadata": {},
   "outputs": [
    {
     "name": "stdout",
     "output_type": "stream",
     "text": [
      "11\n"
     ]
    }
   ],
   "source": [
    "def maxSubArraySum(arr):                             #time complexity o(n**n)\n",
    "        maximum=float('-inf')\n",
    "        for i in range(len(arr)):\n",
    "            for j in range(i+1,len(arr)):\n",
    "                if(sum(arr[i:j+1])>maximum):\n",
    "                    maximum=sum(arr[i:j+1])\n",
    "        return maximum\n",
    "arr= [2, 3, -8, 7, -1, 2, 3]\n",
    "print(maxSubArraySum(arr))"
   ]
  },
  {
   "cell_type": "code",
   "execution_count": 29,
   "id": "4a510c08-8264-43bb-8866-94e72e75df7a",
   "metadata": {},
   "outputs": [
    {
     "name": "stdout",
     "output_type": "stream",
     "text": [
      "11\n"
     ]
    }
   ],
   "source": [
    "def maxSubArraySum2(arr):                     #time complexity o(n)\n",
    "        maximum=float(\"-inf\")\n",
    "        current_sum=0\n",
    "        for i in arr:\n",
    "            current_sum=max(i, current_sum+i)\n",
    "            maximum=max(maximum, current_sum)\n",
    "        return maximum\n",
    "arr= [2, 3, -8, 7, -1, 2, 3]\n",
    "print(maxSubArraySum2(arr))"
   ]
  },
  {
   "cell_type": "code",
   "execution_count": null,
   "id": "2f94f9e1-60ef-4fdd-ad23-1db6e9e56461",
   "metadata": {},
   "outputs": [],
   "source": []
  }
 ],
 "metadata": {
  "kernelspec": {
   "display_name": "Python 3 (ipykernel)",
   "language": "python",
   "name": "python3"
  },
  "language_info": {
   "codemirror_mode": {
    "name": "ipython",
    "version": 3
   },
   "file_extension": ".py",
   "mimetype": "text/x-python",
   "name": "python",
   "nbconvert_exporter": "python",
   "pygments_lexer": "ipython3",
   "version": "3.12.7"
  }
 },
 "nbformat": 4,
 "nbformat_minor": 5
}
