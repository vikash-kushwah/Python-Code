{
 "cells": [
  {
   "cell_type": "code",
   "execution_count": null,
   "id": "32bd598f-8a83-4023-8c69-425636a7a4b0",
   "metadata": {},
   "outputs": [],
   "source": [
    "'''Given an array of integers arr[] in a circular fashion. \n",
    "Find the maximum subarray sum that we can get if we assume the array to be circular.\n",
    "\n",
    "Input: arr[] = [-1, 40, -14, 7, 6, 5, -4, -1] \n",
    "Output: 52\n",
    "Explanation: Circular Subarray [7, 6, 5, -4, -1, -1, 40] has the maximum sum, which is 52.\n",
    "'''"
   ]
  },
  {
   "cell_type": "code",
   "execution_count": 40,
   "id": "72ca5f6c-ee2e-4adc-bf99-170807a66393",
   "metadata": {},
   "outputs": [
    {
     "name": "stdout",
     "output_type": "stream",
     "text": [
      "22\n"
     ]
    }
   ],
   "source": [
    "def circularSubarraySum(arr):\n",
    "    total_sum=0 \n",
    "    max_sum =float('-inf')\n",
    "    min_sum =float('inf')\n",
    "    current_max= 0\n",
    "    current_min = 0\n",
    "\n",
    "    for num in arr:\n",
    "        total_sum += num                                              # Total sum of array \n",
    "        current_max = max(num, current_max + num)                     # Kadane's for max subarray sum\n",
    "        max_sum = max(max_sum, current_max)\n",
    "\n",
    "        current_min = min(num, current_min + num)                     # Kadane's for min subarray sum\n",
    "        min_sum = min(min_sum, current_min)\n",
    "\n",
    "    # If all elements are negative, max_sum is the answer\n",
    "    return max(max_sum, total_sum - min_sum) if max_sum > 0 else max_sum\n",
    "    \n",
    "arr = [8, -8, 9, -9, 10, -11, 12]\n",
    "print(circularSubarraySum(arr))"
   ]
  },
  {
   "cell_type": "code",
   "execution_count": 41,
   "id": "56aa4926-1bf4-457f-bfd2-ed3da42026ab",
   "metadata": {},
   "outputs": [
    {
     "name": "stdout",
     "output_type": "stream",
     "text": [
      "52\n"
     ]
    }
   ],
   "source": [
    "arr2= [-1, 40, -14, 7, 6, 5, -4, -1] \n",
    "print(circularSubarraySum(arr2))"
   ]
  },
  {
   "cell_type": "code",
   "execution_count": null,
   "id": "2ad971ed-1019-4b0a-8ead-c6c00eab4349",
   "metadata": {},
   "outputs": [],
   "source": []
  }
 ],
 "metadata": {
  "kernelspec": {
   "display_name": "Python 3 (ipykernel)",
   "language": "python",
   "name": "python3"
  },
  "language_info": {
   "codemirror_mode": {
    "name": "ipython",
    "version": 3
   },
   "file_extension": ".py",
   "mimetype": "text/x-python",
   "name": "python",
   "nbconvert_exporter": "python",
   "pygments_lexer": "ipython3",
   "version": "3.12.7"
  }
 },
 "nbformat": 4,
 "nbformat_minor": 5
}
