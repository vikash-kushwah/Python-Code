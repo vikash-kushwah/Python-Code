{
 "cells": [
  {
   "cell_type": "code",
   "execution_count": 75,
   "id": "fa0e199b-bb25-4ff9-8a1a-ddfa17ec4e8d",
   "metadata": {},
   "outputs": [
    {
     "name": "stdout",
     "output_type": "stream",
     "text": [
      "[5, 6]\n"
     ]
    }
   ],
   "source": [
    "#https://www.geeksforgeeks.org/batch/gfg-160-problems/track/arrays-gfg-160/problem/majority-vote\n",
    "arr=[2, 1, 6, 6, 6, 6, 6, 5, 5, 5, 5,5]\n",
    "result={}\n",
    "for i in arr:\n",
    "    if(i not in result):\n",
    "        result[i]=1\n",
    "    else:\n",
    "        result[i]=result[i]+1\n",
    "d=len(arr)//3\n",
    "ans=[]\n",
    "for i, count in result.items():\n",
    "    if(count>d):\n",
    "        ans.append(i)\n",
    "print(sorted(ans))\n"
   ]
  },
  {
   "cell_type": "code",
   "execution_count": null,
   "id": "a672b0ce-da5d-4c0f-85ee-767f858760c8",
   "metadata": {},
   "outputs": [],
   "source": []
  }
 ],
 "metadata": {
  "kernelspec": {
   "display_name": "Python 3 (ipykernel)",
   "language": "python",
   "name": "python3"
  },
  "language_info": {
   "codemirror_mode": {
    "name": "ipython",
    "version": 3
   },
   "file_extension": ".py",
   "mimetype": "text/x-python",
   "name": "python",
   "nbconvert_exporter": "python",
   "pygments_lexer": "ipython3",
   "version": "3.12.7"
  }
 },
 "nbformat": 4,
 "nbformat_minor": 5
}
